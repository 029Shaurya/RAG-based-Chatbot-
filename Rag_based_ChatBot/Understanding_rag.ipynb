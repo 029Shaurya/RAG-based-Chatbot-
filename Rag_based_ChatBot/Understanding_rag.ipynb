{
 "cells": [
  {
   "cell_type": "code",
   "execution_count": 9,
   "metadata": {},
   "outputs": [],
   "source": [
    "import os\n",
    "from dotenv import load_dotenv\n",
    "\n",
    "load_dotenv()\n",
    "\n",
    "OPENAI_API_KEY = os.getenv('OPENAI_API_KEY')\n",
    "MODEL = 'gpt-3.5-turbo' \n",
    "MODEL = 'llama2'\n",
    "\n",
    "from langchain_openai.chat_models import ChatOpenAI\n",
    "\n",
    "model = ChatOpenAI(api_key = OPENAI_API_KEY, model = MODEL)\n",
    "\n",
    "model.invoke(\"who is Shruti Haasan\") #AI message\n",
    "\n"
   ]
  },
  {
   "cell_type": "code",
   "execution_count": null,
   "metadata": {},
   "outputs": [],
   "source": [
    "# code to remove AI message of Chat Gpt\n",
    "from langchain_core.output_parsers import StrOutputParser\n",
    "\n",
    "parser = StrOutputParser()\n",
    "\n",
    "chain = model | parser\n",
    "\n",
    "chain.invoke(\"who is shruti haasan?\")"
   ]
  },
  {
   "cell_type": "code",
   "execution_count": 56,
   "metadata": {},
   "outputs": [],
   "source": [
    "import os\n",
    "from dotenv import load_dotenv\n",
    "\n",
    "load_dotenv()\n",
    "\n",
    "MODEL = 'llama2'\n",
    "\n",
    "from langchain_community.llms import Ollama\n",
    "from langchain_community.embeddings import OllamaEmbeddings\n",
    "\n",
    "model = Ollama(model = MODEL)\n",
    "embeddings = OllamaEmbeddings()\n",
    "\n"
   ]
  },
  {
   "cell_type": "code",
   "execution_count": 57,
   "metadata": {},
   "outputs": [
    {
     "data": {
      "text/plain": [
       "'Shruti Haasan is an Indian actress, singer, and film producer who works primarily in Telugu, Tamil, and Hindi films. She is the daughter of actors Kamal Haasan and Sarika Thakur, and has been active in the film industry since 2009.\\n\\nShruti Haasan was born on January 12, 1986, in Chennai, Tamil Nadu, India. She began her acting career at a young age, making her debut as a child artist in the 1999 film \"Hey Ram.\" She went on to act in several films throughout her childhood and adolescence, including \"Lakshya\" (2004), \"Dil K Ab Bas Ye Hai\" (2005), and \"Anbe Aaruyire\" (2005).\\n\\nAfter completing her higher secondary education, Shruti pursued a career in singing. She released her debut album, \"Bheg,\" in 2015, which was well-received by audiences and critics alike. She has since released several other albums, including \"Oh My Kadavule\" (2018) and \"Unbleached\" (2020).\\n\\nIn addition to her acting and singing career, Shruti Haasan is also a film producer. She co-founded the production company, \"Shruti Haasan Productions,\" in 2019, which has produced several films since its inception.\\n\\nSome of Shruti Haasan\\'s notable films include \"Lakshya\" (2004), \"Dil K Ab Bas Ye Hai\" (2005), \"Anbe Aaruyire\" (2005), \"Chalte Chalte\" (2006), \"Rockstar\" (2011), \"7aum Arivu\" (2011), \"Viswaroopam\" (2013), and \"S3\" (2014). She has also won several awards for her performances, including the Filmfare Award for Best Female Playback Singer – Telugu in 2017.\\n\\nOverall, Shruti Haasan is a talented actress, singer, and producer who has made a significant impact in the Indian film industry.'"
      ]
     },
     "execution_count": 57,
     "metadata": {},
     "output_type": "execute_result"
    }
   ],
   "source": [
    "model.invoke(\"who is Shruti Haasan\")"
   ]
  },
  {
   "cell_type": "code",
   "execution_count": 64,
   "metadata": {},
   "outputs": [],
   "source": [
    "from langchain_community.document_loaders import TextLoader\n",
    "from langchain_community.vectorstores import DocArrayInMemorySearch\n",
    "from langchain_openai import OpenAIEmbeddings\n",
    "from langchain_text_splitters import CharacterTextSplitter\n",
    "from langchain.schema import Document\n",
    "from langchain_community.document_loaders import PyPDFLoader\n",
    "\n"
   ]
  },
  {
   "cell_type": "code",
   "execution_count": 65,
   "metadata": {},
   "outputs": [],
   "source": [
    "from langchain.text_splitter import CharacterTextSplitter\n",
    "from langchain.schema import Document\n",
    "from langchain.vectorstores import FAISS\n",
    "from langchain.embeddings import OpenAIEmbeddings\n",
    "\n",
    "\n",
    "\n",
    "# Define your documents\n",
    "loader = PyPDFLoader('results.pdf')\n",
    "docs = loader.load_and_split()\n",
    "\n",
    "# Initialize vector store\n",
    "vectorstore = FAISS.from_documents(docs, embeddings)\n",
    "\n",
    "# Use the vector store as needed\n"
   ]
  },
  {
   "cell_type": "code",
   "execution_count": 68,
   "metadata": {},
   "outputs": [
    {
     "data": {
      "text/plain": [
       "[Document(metadata={'source': 'results.pdf', 'page': 3}, page_content=\"Paper Code (Credit***)\\nInternal\\nTotal (Grade**)LEGEND\\nExternal\\n** If Grade Based*** If Credit Based\\nProgramme Code: 128      Programme Name: BACHELOR OF TECHNOLOGY  (ELECTRONICS AND COMMUNICATIONS ENGINEERING)      Sem./Year/EU: EIGHTH SEMESTER      Batch: 2019      Examination: REGULAR JUL, 2023    Result Declared Date :31-JUL-23\\nS.No. Photo Student's Details Institution Code: 164      Institution: UNIVERSITY SCHOOL OF INFORMATION, COMMUNICATION & TECHNOLOGY (FORMERLY USIT) CS/Remarks\\nHS402 (2)\\n-\\n79 (A+)79MS416 (4)\\n22\\n83 (A+)61HS424 (1)\\n-\\n70 (A)70EC426 (4)\\n20\\n82 (A+)62EC452 (2)\\n32\\n76 (A+)44EC454 (8)\\n37\\n94 (O)57EC456 (1)\\n-\\n93 (O)9302216412819\\nABHISHEK JAIN\\nSID: 190000117699\\nSchemeID: 191282015001\\n 21\\n22\\nHS402 (2)\\n-\\n71 (A)71MS416 (4)\\n16\\n65 (A)49HS424 (1)\\n-\\n72 (A)72EC426 (4)\\n19\\n79 (A+)60EC452 (2)\\n30\\n75 (A+)45EC454 (8)\\n35\\n89 (A+)54EC456 (1)\\n-\\n84 (A+)8402316412819\\nSACHIN KUMAR\\nSID: 190000117700\\nSchemeID: 191282015001\\n 22\\n22\\nHS402 (2)\\n-\\n73 (A)73MS416 (4)\\n19\\n66 (A)47HS424 (1)\\n-\\n76 (A+)76EC426 (4)\\n22\\n77 (A+)55EC452 (2)\\n37\\n83 (A+)46EC454 (8)\\n30\\n84 (A+)54EC456 (1)\\n-\\n76 (A+)7602416412819\\nRUDRANSH RATAN\\nSID: 190000117701\\nSchemeID: 191282015001\\n 23\\n22\\nHS402 (2)\\n-\\n70 (A)70MS416 (4)\\n14\\n51 (B)37HS424 (1)\\n-\\n70 (A)70EC426 (4)\\n19\\n84 (A+)65EC452 (2)\\n30\\n85 (A+)55EC454 (8)\\n22\\n66 (A)44EC456 (1)\\n-\\n61 (B+)6102516412819\\nMD. SHAD\\nSID: 190000117702\\nSchemeID: 191282015001\\n 24\\n22\\nHS402 (2)\\n-\\n71 (A)71MS416 (4)\\n14\\n62 (B+)48HS424 (1)\\n-\\n73 (A)73EC426 (4)\\n20\\n79 (A+)59EC452 (2)\\n32\\n75 (A+)43EC454 (8)\\n34\\n86 (A+)52EC456 (1)\\n-\\n87 (A+)8702716412819\\nLAKSHAY NEGI\\nSID: 190000117704\\nSchemeID: 191282015001\\n 25\\n22\\nHS402 (2)\\n-\\n70 (A)70MS416 (4)\\n21\\n74 (A)53HS424 (1)\\n-\\n74 (A)74EC426 (4)\\n22\\n84 (A+)62EC452 (2)\\n35\\n81 (A+)46EC454 (8)\\n33\\n88 (A+)55EC456 (1)\\n-\\n81 (A+)8102916412819\\nSHAURYA AGARWAL\\nSID: 190000117706\\nSchemeID: 191282015001\\n 26\\n22\\nHS402 (2)\\n-\\n72 (A)72MS416 (4)\\n17\\n65 (A)48HS424 (1)\\n-\\n70 (A)70EC426 (4)\\n18\\n72 (A)54EC452 (2)\\n29\\n74 (A)45EC454 (8)\\n29\\n79 (A+)50EC456 (1)\\n-\\n74 (A)7403016412819\\nRATNESH UPADHYAY\\nSID: 190000117707\\nSchemeID: 191282015001\\n 27\\n22\\nHS402 (2)\\n-\\n71 (A)71MS416 (4)\\n18\\n74 (A)56HS424 (1)\\n-\\n72 (A)72EC426 (4)\\n22\\n70 (A)48EC452 (2)\\n35\\n82 (A+)47EC454 (8)\\n36\\n91 (O)55EC456 (1)\\n-\\n91 (O)9103116412819\\nDHEERAJ JHA\\nSID: 190000117708\\nSchemeID: 191282015001\\n 28\\n22\\nHS402 (2)\\n-\\n73 (A)73MS416 (4)\\n19\\n78 (A+)59HS424 (1)\\n-\\n75 (A+)75EC426 (4)\\n24\\n94 (O)70EC452 (2)\\n38\\n86 (A+)48EC454 (8)\\n33\\n85 (A+)52EC456 (1)\\n-\\n78 (A+)7803216412819\\nNEERAJ KUMAR\\nSID: 190000117709\\nSchemeID: 191282015001\\n 29\\n22\\nHS402 (2)\\n-\\n74 (A)74MS416 (4)\\n15\\n55 (B+)40HS424 (1)\\n-\\n73 (A)73EC426 (4)\\n17\\n66 (A)49EC452 (2)\\n27\\n69 (A)42EC454 (8)\\n28\\n83 (A+)55EC456 (1)\\n-\\n74 (A)7403316412819\\nRAHUL KUMAR\\nSID: 190000117710\\nSchemeID: 191282015001\\n 30\\n22\\n*: Passed with grace marks;    ABS: Absent;    CAN: Cancelled:    RL: Result Later;    DET: Detained;    CS: Credit Secured;    EU: Examination Unit Number;    SID: Student ID;    SchemeID: The Scheme applicable to Printed On: 31-Jul-2023 Page No.: 4\"),\n",
       " Document(metadata={'source': 'results.pdf', 'page': 2}, page_content=\"Paper Code (Credit***)\\nInternal\\nTotal (Grade**)LEGEND\\nExternal\\n** If Grade Based*** If Credit Based\\nProgramme Code: 128      Programme Name: BACHELOR OF TECHNOLOGY  (ELECTRONICS AND COMMUNICATIONS ENGINEERING)      Sem./Year/EU: EIGHTH SEMESTER      Batch: 2019      Examination: REGULAR JUL, 2023    Result Declared Date :31-JUL-23\\nS.No. Photo Student's Details Institution Code: 164      Institution: UNIVERSITY SCHOOL OF INFORMATION, COMMUNICATION & TECHNOLOGY (FORMERLY USIT) CS/Remarks\\nHS402 (2)\\n-\\n72 (A)72MS416 (4)\\n16\\n62 (B+)46HS424 (1)\\n-\\n72 (A)72EC426 (4)\\n21\\n82 (A+)61EC452 (2)\\n34\\n82 (A+)48EC454 (8)\\n33\\n88 (A+)55EC456 (1)\\n-\\n84 (A+)8401016412819\\nDHAIRYA SHARMA\\nSID: 190000117687\\nSchemeID: 191282015001\\n 11\\n22\\nHS402 (2)\\n-\\n74 (A)74MS416 (4)\\n19\\n69 (A)50HS424 (1)\\n-\\n73 (A)73EC426 (4)\\n23\\n72 (A)49EC452 (2)\\n37\\n85 (A+)48EC454 (8)\\n31\\n86 (A+)55EC456 (1)\\n-\\n84 (A+)8401116412819\\nMUKUL SHARMA\\nSID: 190000117688\\nSchemeID: 191282015001\\n 12\\n22\\nHS402 (2)\\n-\\n73 (A)73MS416 (4)\\n19\\n61 (B+)42HS424 (1)\\n-\\n70 (A)70EC426 (4)\\n21\\n90 (O)69EC452 (2)\\n34\\n90 (O)56EC454 (8)\\n30\\n81 (A+)51EC456 (1)\\n-\\n79 (A+)7901216412819\\nNITESH SHARMA\\nSID: 190000117689\\nSchemeID: 191282015001\\n 13\\n22\\nHS402 (2)\\n-\\n70 (A)70MS416 (4)\\n20\\n73 (A)53HS424 (1)\\n-\\n70 (A)70EC426 (4)\\n22\\n74 (A)52EC452 (2)\\n35\\n91 (O)56EC454 (8)\\n36\\n94 (O)58EC456 (1)\\n-\\n85 (A+)8501316412819\\nDHANANJAY SHARMA\\nSID: 190000117690\\nSchemeID: 191282015001\\n 14\\n22\\nHS402 (2)\\n-\\n70 (A)70MS416 (4)\\n21\\n62 (B+)41HS424 (1)\\n-\\n70 (A)70EC426 (4)\\n19\\n59 (B+)40EC452 (2)\\n30\\n80 (A+)50EC454 (8)\\n30\\n81 (A+)51EC456 (1)\\n-\\n81 (A+)8101516412819\\nAVNISH SAINI\\nSID: 190000117692\\nSchemeID: 191282015001\\n 15\\n22\\nHS402 (2)\\n-\\n72 (A)72MS416 (4)\\n18\\n53 (B)35HS424 (1)\\n-\\n70 (A)70EC426 (4)\\n12\\n57 (B+)45EC452 (2)\\n24\\n63 (B+)39EC454 (8)\\n28\\n72 (A)44EC456 (1)\\n-\\n71 (A)7101616412818\\nDIVYANSH GREWAL\\nSID: 190000112275\\nSchemeID: 191282015001\\n 16\\n22\\nHS402 (2)\\n-\\n71 (A)71MS416 (4)\\n19\\n62 (B+)43HS424 (1)\\n-\\n70 (A)70EC426 (4)\\n21\\n82 (A+)61EC452 (2)\\n34\\n82 (A+)48EC454 (8)\\n30\\n81 (A+)51EC456 (1)\\n-\\n86 (A+)8601616412819\\nTUSHAR TYAGI\\nSID: 190000117693\\nSchemeID: 191282015001\\n 17\\n22\\nHS402 (2)\\n-\\n73 (A)73MS416 (4)\\n16\\n73 (A)57HS424 (1)\\n-\\n73 (A)73EC426 (4)\\n17\\n82 (A+)65EC452 (2)\\n27\\n72 (A)45EC454 (8)\\n30\\n82 (A+)52EC456 (1)\\n-\\n77 (A+)7701716412818\\nKANISHK KUMAR\\nSID: 190000112276\\nSchemeID: 191282015001\\n 18\\n22\\nHS402 (2)\\n-\\n72 (A)72MS416 (4)\\n17\\n56 (B+)39HS424 (1)\\n-\\n75 (A+)75EC426 (4)\\n20\\n71 (A)51EC452 (2)\\n32\\n76 (A+)44EC454 (8)\\n33\\n85 (A+)52EC456 (1)\\n-\\n89 (A+)8901716412819\\nMAYANK BISHT\\nSID: 190000117694\\nSchemeID: 191282015001\\n 19\\n22\\nHS402 (2)\\n-\\n71 (A)71MS416 (4)\\n19\\n76 (A+)57HS424 (1)\\n-\\n72 (A)72EC426 (4)\\n24\\n90 (O)66EC452 (2)\\n38\\n94 (O)56EC454 (8)\\n28\\n78 (A+)50EC456 (1)\\n-\\n79 (A+)7901916412819\\nADITYA SHARMA\\nSID: 190000117696\\nSchemeID: 191282015001\\n 20\\n22\\n*: Passed with grace marks;    ABS: Absent;    CAN: Cancelled:    RL: Result Later;    DET: Detained;    CS: Credit Secured;    EU: Examination Unit Number;    SID: Student ID;    SchemeID: The Scheme applicable to Printed On: 31-Jul-2023 Page No.: 3\"),\n",
       " Document(metadata={'source': 'results.pdf', 'page': 1}, page_content=\"Paper Code (Credit***)\\nInternal\\nTotal (Grade**)LEGEND\\nExternal\\n** If Grade Based*** If Credit Based\\nProgramme Code: 128      Programme Name: BACHELOR OF TECHNOLOGY  (ELECTRONICS AND COMMUNICATIONS ENGINEERING)      Sem./Year/EU: EIGHTH SEMESTER      Batch: 2019      Examination: REGULAR JUL, 2023    Result Declared Date :31-JUL-23\\nS.No. Photo Student's Details Institution Code: 164      Institution: UNIVERSITY SCHOOL OF INFORMATION, COMMUNICATION & TECHNOLOGY (FORMERLY USIT) CS/Remarks\\nHS402 (2)\\n-\\n70 (A)70MS416 (4)\\n17\\n73 (A)56HS424 (1)\\n-\\n71 (A)71EC426 (4)\\n18\\n71 (A)53EC452 (2)\\n29\\n74 (A)45EC454 (8)\\n28\\n73 (A)45EC456 (1)\\n-\\n73 (A)7300216412819\\nANUJ\\nSID: 190000117679\\nSchemeID: 191282015001\\n 1\\n22\\nHS402 (2)\\n-\\n70 (A)70MS416 (4)\\n7\\n14 (F)7HS424 (1)\\n-\\n70 (A)70EC426 (4)\\n10\\nABS (F)ABSEC452 (2)\\n20\\nABS (F)ABSEC454 (8)\\nABS\\nABS (F)ABSEC456 (1)\\n-\\nABS (F)ABS00316412819\\nTUSHAR GAUR\\nSID: 190000117680\\nSchemeID: 191282015001\\n 2\\n3\\nHS402 (2)\\n-\\n75 (A+)75MS416 (4)\\n17\\n49 (C)32HS424 (1)\\n-\\n73 (A)73EC426 (4)\\n18\\n82 (A+)64EC452 (2)\\n29\\n74 (A)45EC454 (8)\\n35\\n85 (A+)50EC456 (1)\\n-\\n84 (A+)8400416412819\\nAMAN SAGAR\\nSID: 190000117681\\nSchemeID: 191282015001\\n 3\\n22\\nHS402 (2)\\n-\\n80 (A+)80MS416 (4)\\n20\\n73 (A)53HS424 (1)\\n-\\n72 (A)72EC426 (4)\\n18\\n66 (A)48EC452 (2)\\n29\\n73 (A)44EC454 (8)\\n31\\n82 (A+)51EC456 (1)\\n-\\n83 (A+)8300516412819\\nVAIBHAV TIWARI\\nSID: 190000117682\\nSchemeID: 191282015001\\n 4\\n22\\nHS402 (2)\\n-\\n70 (A)70MS416 (4)\\n20\\n63 (B+)43HS424 (1)\\n-\\n75 (A+)75EC426 (4)\\n23\\n87 (A+)64EC452 (2)\\n37\\n89 (A+)52EC454 (8)\\n33\\n86 (A+)53EC456 (1)\\n-\\n88 (A+)8800616412819\\nTARUN  SHARMA\\nSID: 190000117683\\nSchemeID: 191282015001\\n 5\\n22\\nHS402 (2)\\n-\\n72 (A)72MS416 (4)\\n16\\n41 (P)25HS424 (1)\\n-\\n74 (A)74EC426 (4)\\n21\\n59 (B+)38EC452 (2)\\n34\\n83 (A+)49EC454 (8)\\n31\\n83 (A+)52EC456 (1)\\n-\\n74 (A)7400716412819\\nDEVEN KAPOOR\\nSID: 190000117684\\nSchemeID: 191282015001\\n 6\\n22\\nHS402 (2)\\n-\\n70 (A)70MS416 (4)\\n17\\n53 (B)36HS424 (1)\\n-\\n70 (A)70EC426 (4)\\n24\\n85 (A+)61EC452 (2)\\n38\\n88 (A+)50EC454 (8)\\n32\\n90 (O)58EC456 (1)\\n-\\n81 (A+)8100816412819\\nSIDDHANT\\nSID: 190000117685\\nSchemeID: 191282015001\\n 7\\n22\\nHS402 (2)\\n-\\n71 (A)71MS416 (4)\\n9\\n52 (B)43HS424 (1)\\n-\\n72 (A)72EC426 (4)\\n20\\n65 (A)45EC452 (2)\\n32\\n71 (A)39EC454 (8)\\n28\\n74 (A)46EC456 (1)\\n-\\n78 (A+)7800916412818\\nANUBHAV TOMAR\\nSID: 190000112268\\nSchemeID: 191282015001\\n 8\\n22\\nHS402 (2)\\n-\\n74 (A)74MS416 (4)\\n22\\n84 (A+)62HS424 (1)\\n-\\n70 (A)70EC426 (4)\\n24\\n92 (O)68EC452 (2)\\n38\\n88 (A+)50EC454 (8)\\n36\\n90 (O)54EC456 (1)\\n-\\n85 (A+)8500916412819\\nRAGINI BHAYANA\\nSID: 190000117686\\nSchemeID: 191282015001\\n 9\\n22\\nHS402 (2)\\n-\\n73 (A)73MS416 (4)\\n15\\n65 (A)50HS424 (1)\\n-\\n73 (A)73EC426 (4)\\n21\\n80 (A+)59EC452 (2)\\n34\\n84 (A+)50EC454 (8)\\n30\\n82 (A+)52EC456 (1)\\n-\\n77 (A+)7701016412818\\nANURAG SINGH\\nSID: 190000112269\\nSchemeID: 191282015001\\n 10\\n22\\n*: Passed with grace marks;    ABS: Absent;    CAN: Cancelled:    RL: Result Later;    DET: Detained;    CS: Credit Secured;    EU: Examination Unit Number;    SID: Student ID;    SchemeID: The Scheme applicable to Printed On: 31-Jul-2023 Page No.: 2\"),\n",
       " Document(metadata={'source': 'results.pdf', 'page': 4}, page_content=\"Paper Code (Credit***)\\nInternal\\nTotal (Grade**)LEGEND\\nExternal\\n** If Grade Based*** If Credit Based\\nProgramme Code: 128      Programme Name: BACHELOR OF TECHNOLOGY  (ELECTRONICS AND COMMUNICATIONS ENGINEERING)      Sem./Year/EU: EIGHTH SEMESTER      Batch: 2019      Examination: REGULAR JUL, 2023    Result Declared Date :31-JUL-23\\nS.No. Photo Student's Details Institution Code: 164      Institution: UNIVERSITY SCHOOL OF INFORMATION, COMMUNICATION & TECHNOLOGY (FORMERLY USIT) CS/Remarks\\nHS402 (2)\\n-\\n73 (A)73MS416 (4)\\n18\\n71 (A)53HS424 (1)\\n-\\n72 (A)72EC426 (4)\\n24\\n83 (A+)59EC452 (2)\\n37\\n85 (A+)48EC454 (8)\\n31\\n86 (A+)55EC456 (1)\\n-\\n72 (A)7203416412819\\nHIMANSHU PALIWAL\\nSID: 190000117711\\nSchemeID: 191282015001\\n 31\\n22\\nHS402 (2)\\n-\\n70 (A)70MS416 (4)\\n17\\n65 (A)48HS424 (1)\\n-\\n76 (A+)76EC426 (4)\\n20\\n78 (A+)58EC452 (2)\\n32\\n80 (A+)48EC454 (8)\\n31\\n84 (A+)53EC456 (1)\\n-\\n78 (A+)7803516412819\\nAMAN RAJ\\nSID: 190000117712\\nSchemeID: 191282015001\\n 32\\n22\\nHS402 (2)\\n-\\n74 (A)74MS416 (4)\\n21\\n73 (A)52HS424 (1)\\n-\\n70 (A)70EC426 (4)\\n22\\n89 (A+)67EC452 (2)\\n35\\n85 (A+)50EC454 (8)\\n36\\n91 (O)55EC456 (1)\\n-\\n89 (A+)8903616412819\\nABHAY KULSHRESTHA\\nSID: 190000117713\\nSchemeID: 191282015001\\n 33\\n22\\nHS402 (2)\\n-\\n70 (A)70MS416 (4)\\n17\\n53 (B)36HS424 (1)\\n-\\n72 (A)72EC426 (4)\\n21\\n89 (A+)68EC452 (2)\\n34\\n83 (A+)49EC454 (8)\\n33\\n83 (A+)50EC456 (1)\\n-\\n81 (A+)8103716412819\\nPRABHAKAR KUMAR\\nSID: 190000117714\\nSchemeID: 191282015001\\n 34\\n22\\nHS402 (2)\\n-\\n73 (A)73MS416 (4)\\n20\\n70 (A)50HS424 (1)\\n-\\n74 (A)74EC426 (4)\\n18\\n80 (A+)62EC452 (2)\\n29\\n74 (A)45EC454 (8)\\n33\\n88 (A+)55EC456 (1)\\n-\\n81 (A+)8103816412819\\nKARTIK CHAUDHARY\\nSID: 190000117715\\nSchemeID: 191282015001\\n 35\\n22\\nHS402 (2)\\n-\\n70 (A)70MS416 (4)\\n20\\n64 (B+)44HS424 (1)\\n-\\n71 (A)71EC426 (4)\\n18\\n75 (A+)57EC452 (2)\\n29\\n71 (A)42EC454 (8)\\n27\\n71 (A)44EC456 (1)\\n-\\n68 (A)6803916412819\\nRAUNAK SINGH\\nSID: 190000117716\\nSchemeID: 191282015001\\n 36\\n22\\nHS402 (2)\\n-\\n70 (A)70MS416 (4)\\n15\\n56 (B+)41HS424 (1)\\n-\\n72 (A)72EC426 (4)\\n18\\n70 (A)52EC452 (2)\\n29\\n71 (A)42EC454 (8)\\n26\\n82 (A+)56EC456 (1)\\n-\\n63 (B+)6304016412819\\nGARVIT THAKUR\\nSID: 190000117717\\nSchemeID: 191282015001\\n 37\\n22\\nHS402 (2)\\n-\\n75 (A+)75MS416 (4)\\n18\\n67 (A)49HS424 (1)\\n-\\n73 (A)73EC426 (4)\\n23\\n77 (A+)54EC452 (2)\\n37\\n80 (A+)43EC454 (8)\\n30\\n85 (A+)55EC456 (1)\\n-\\n80 (A+)8004116412819\\nPRINCE KUMAR GUPTA\\nSID: 190000117718\\nSchemeID: 191282015001\\n 38\\n22\\nHS402 (2)\\n-\\n73 (A)73MS416 (4)\\n15\\n62 (B+)47HS424 (1)\\n-\\n70 (A)70EC426 (4)\\n13\\n76 (A+)63EC452 (2)\\n24\\n70 (A)46EC454 (8)\\n27\\n85 (A+)58EC456 (1)\\n-\\n64 (B+)6404216412819\\nANANT GARG\\nSID: 190000117719\\nSchemeID: 191282015001\\n 39\\n22\\nHS402 (2)\\n-\\n70 (A)70MS416 (4)\\n17\\n65 (A)48HS424 (1)\\n-\\n73 (A)73EC426 (4)\\n19\\n84 (A+)65EC452 (2)\\n30\\n76 (A+)46EC454 (8)\\n26\\n73 (A)47EC456 (1)\\n-\\n70 (A)7004416412819\\nPARAS SEHWAG\\nSID: 190000117721\\nSchemeID: 191282015001\\n 40\\n22\\n*: Passed with grace marks;    ABS: Absent;    CAN: Cancelled:    RL: Result Later;    DET: Detained;    CS: Credit Secured;    EU: Examination Unit Number;    SID: Student ID;    SchemeID: The Scheme applicable to Printed On: 31-Jul-2023 Page No.: 5\")]"
      ]
     },
     "execution_count": 68,
     "metadata": {},
     "output_type": "execute_result"
    }
   ],
   "source": [
    "retriever = vectorstore.as_retriever()\n",
    "retriever.invoke(\"Shaurya Agarwal\")"
   ]
  },
  {
   "cell_type": "code",
   "execution_count": 39,
   "metadata": {},
   "outputs": [
    {
     "name": "stdout",
     "output_type": "stream",
     "text": [
      "Answer the  question based on the context below. If you can't answer\n",
      "the question, reply \"I don't know\"\n",
      "\n",
      "Context: Here is some context\n",
      "Question: Here is  some question\n",
      "\n"
     ]
    }
   ],
   "source": [
    "from langchain.prompts import PromptTemplate\n",
    "template =  '''Answer the  question based on the context below. If you can't answer\n",
    "the question, reply \"I don't know\"\n",
    "\n",
    "Context: {context}\n",
    "Question: {question}\n",
    "'''\n",
    "\n",
    "prompt = PromptTemplate.from_template(template)\n",
    "print(prompt.format(context = 'Here is some context', question = \"Here is  some question\")) \n",
    "\n"
   ]
  },
  {
   "cell_type": "code",
   "execution_count": 40,
   "metadata": {},
   "outputs": [],
   "source": [
    "chain = prompt | model"
   ]
  },
  {
   "cell_type": "code",
   "execution_count": 41,
   "metadata": {},
   "outputs": [
    {
     "data": {
      "text/plain": [
       "{'title': 'PromptInput',\n",
       " 'type': 'object',\n",
       " 'properties': {'context': {'title': 'Context', 'type': 'string'},\n",
       "  'question': {'title': 'Question', 'type': 'string'}},\n",
       " 'required': ['context', 'question']}"
      ]
     },
     "execution_count": 41,
     "metadata": {},
     "output_type": "execute_result"
    }
   ],
   "source": [
    "chain.input_schema.schema()"
   ]
  },
  {
   "cell_type": "code",
   "execution_count": 42,
   "metadata": {},
   "outputs": [
    {
     "data": {
      "text/plain": [
       "'Sure! Based on the information provided, your age in 2024 would be 14 years old.'"
      ]
     },
     "execution_count": 42,
     "metadata": {},
     "output_type": "execute_result"
    }
   ],
   "source": [
    "chain.invoke(\n",
    "    {\n",
    "        'context':  \"I was 10 years old in 2020\",\n",
    "        'question': \"what's my age in 2024\"\n",
    "    }\n",
    ")"
   ]
  },
  {
   "cell_type": "code",
   "execution_count": 71,
   "metadata": {},
   "outputs": [],
   "source": [
    "from operator import itemgetter\n",
    "chain = (\n",
    "    {\n",
    "        'context': itemgetter('question') | retriever,\n",
    "        'question': itemgetter('question')\n",
    "    }\n",
    "    | prompt\n",
    "    | model\n",
    ")"
   ]
  },
  {
   "cell_type": "code",
   "execution_count": 79,
   "metadata": {},
   "outputs": [],
   "source": [
    "res = chain.invoke({\"question\": \"Show the result of 'Ragini Bhayana'?\"})"
   ]
  },
  {
   "cell_type": "code",
   "execution_count": 80,
   "metadata": {},
   "outputs": [
    {
     "name": "stdout",
     "output_type": "stream",
     "text": [
      "Sure! Here is the result for \"Ragini Bhayana\":\n",
      "\n",
      "SID: 190000117684\n",
      "SchemeID: 191282015001\n",
      "\n",
      "* Examination Unit Number: 7400716412819\n",
      "* Surname: Bhayana\n",
      "* Given Name: Ragini\n",
      "* Roll Number: 190000117684\n",
      "* Result: Passed with grace marks (A+)\n",
      "\n",
      "Grade: A+\n",
      "Credit Secured: 1\n",
      "Examination Unit Number: 7400716412819\n"
     ]
    }
   ],
   "source": [
    "print(res)"
   ]
  },
  {
   "cell_type": "code",
   "execution_count": 82,
   "metadata": {},
   "outputs": [
    {
     "name": "stdout",
     "output_type": "stream",
     "text": [
      "The result for \"Ragini Bhayana\" is:\n",
      "\n",
      "SID: 190000117686\n",
      "SchemeID: 191282015001\n",
      "\n",
      "* Result: Passed with grace marks\n",
      "* Subjects:\n",
      "\t+ HS402 (2)\n",
      "\t+ HS424 (1)\n",
      "\t+ EC452 (2)\n",
      "\t+ EC454 (8)\n",
      "\t+ EC456 (1)\n",
      "\n",
      "Marks Obtained:\n",
      "\n",
      "* HS402: 22\n",
      "* HS424: 17\n",
      "* EC452: 34\n",
      "* EC454: 8\n",
      "* EC456: 30\n",
      "\n",
      "Total Marks: 195\n",
      "Total Obtained: 179 (75%)\n",
      "Grace Marks: +56\n",
      "Final Result: Pass"
     ]
    }
   ],
   "source": [
    "for s in chain.stream({\"question\": \"Show the result of 'Ragini Bhayana'?\"}):\n",
    "    print(s, end='', flush=True)"
   ]
  },
  {
   "cell_type": "code",
   "execution_count": 83,
   "metadata": {},
   "outputs": [],
   "source": [
    "questions = [\n",
    "    \"what is the purpose of the course?\",\n",
    "    \"how many hours of live sessions?\",\n",
    "    \"How much does the program costs?\"\n",
    "]"
   ]
  },
  {
   "cell_type": "code",
   "execution_count": 84,
   "metadata": {},
   "outputs": [
    {
     "data": {
      "text/plain": [
       "['The course\\'s purpose is not explicitly stated in the provided text. However, based on the information provided, it appears that the course is a professional development program for teachers, as it mentions \"SchemeID\" and \"Examination Unit Number,\" which are likely references to educational institutions and examinations. The course may aim to enhance the teaching skills and knowledge of its participants, preparing them to handle various responsibilities and challenges in their profession.',\n",
       " \"The document provides information about the students' performance in various subjects and their overall percentage. Here are some observations based on the data provided:\\n\\n1. Total number of hours attended: The document mentions that the total number of hours attended by the students is 426 hours.\\n2. Live sessions attended: Out of the total hours attended, 21 hours were live sessions.\\n3. Pass percentage: The overall percentage of passed students is 78%, with 42 students passing out of a total of 56 students.\\n4. Grade distribution: The document provides a breakdown of the grades awarded to each student, with A+ being the highest grade (accounting for 30% of the total), followed by A (21%), B (27%), and C (22%).\\n5. Examination units: The document lists the examination units attended by each student, along with their grades and credit scores.\\n6. Student ID and Scheme ID: Each student's ID number is provided, along with the scheme ID applicable to them.\\n7. Examination dates: The document provides information about the examination dates and the results of each student.\\n8. Credit secured: The document mentions whether each student has secured credit or not.\\n9. Absenteeism: The document notes the number of days a student was absent from classes.\\n10. Detention: The document indicates whether each student was detained or not.\\n\\nBased on the information provided, it is difficult to determine the exact number of hours of live sessions attended by the students without further context.\",\n",
       " 'To determine how much the program costs, we need more information. Could you please provide more context or clarify which program you are referring to?']"
      ]
     },
     "execution_count": 84,
     "metadata": {},
     "output_type": "execute_result"
    }
   ],
   "source": [
    "# batching the questions:\n",
    "chain.batch([{\"question\": q} for q in questions])"
   ]
  }
 ],
 "metadata": {
  "kernelspec": {
   "display_name": ".venv",
   "language": "python",
   "name": "python3"
  },
  "language_info": {
   "codemirror_mode": {
    "name": "ipython",
    "version": 3
   },
   "file_extension": ".py",
   "mimetype": "text/x-python",
   "name": "python",
   "nbconvert_exporter": "python",
   "pygments_lexer": "ipython3",
   "version": "3.9.6"
  }
 },
 "nbformat": 4,
 "nbformat_minor": 2
}
